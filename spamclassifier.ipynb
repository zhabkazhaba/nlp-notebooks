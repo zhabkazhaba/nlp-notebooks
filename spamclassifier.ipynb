{
  "nbformat": 4,
  "nbformat_minor": 0,
  "metadata": {
    "colab": {
      "provenance": [],
      "authorship_tag": "ABX9TyO/9uZmZsk/ykjd0U0Ac8G0",
      "include_colab_link": true
    },
    "kernelspec": {
      "name": "python3",
      "display_name": "Python 3"
    },
    "language_info": {
      "name": "python"
    }
  },
  "cells": [
    {
      "cell_type": "markdown",
      "metadata": {
        "id": "view-in-github",
        "colab_type": "text"
      },
      "source": [
        "<a href=\"https://colab.research.google.com/github/zhabkazhaba/nlp-notebooks/blob/main/spamclassifier.ipynb\" target=\"_parent\"><img src=\"https://colab.research.google.com/assets/colab-badge.svg\" alt=\"Open In Colab\"/></a>"
      ]
    },
    {
      "cell_type": "markdown",
      "source": [
        "## Подготовка"
      ],
      "metadata": {
        "id": "B1iO58vWll5z"
      }
    },
    {
      "cell_type": "code",
      "execution_count": 34,
      "metadata": {
        "id": "oM1vNm-XlibZ",
        "colab": {
          "base_uri": "https://localhost:8080/"
        },
        "outputId": "a533a543-db56-4d5d-e647-05753ebecbf3"
      },
      "outputs": [
        {
          "output_type": "stream",
          "name": "stderr",
          "text": [
            "[nltk_data] Downloading package punkt_tab to /root/nltk_data...\n",
            "[nltk_data]   Package punkt_tab is already up-to-date!\n",
            "[nltk_data] Downloading package stopwords to /root/nltk_data...\n",
            "[nltk_data]   Package stopwords is already up-to-date!\n"
          ]
        },
        {
          "output_type": "execute_result",
          "data": {
            "text/plain": [
              "True"
            ]
          },
          "metadata": {},
          "execution_count": 34
        }
      ],
      "source": [
        "import pandas as pd\n",
        "import matplotlib.pyplot as plt\n",
        "import nltk\n",
        "import random as rand\n",
        "import time\n",
        "\n",
        "from sklearn.naive_bayes import MultinomialNB, GaussianNB\n",
        "from sklearn.linear_model import LogisticRegression\n",
        "from sklearn.feature_extraction.text import TfidfVectorizer\n",
        "from sklearn.model_selection import train_test_split\n",
        "from sklearn.metrics import accuracy_score, classification_report, confusion_matrix\n",
        "\n",
        "from nltk.stem import SnowballStemmer\n",
        "from nltk.tokenize import word_tokenize\n",
        "from nltk.corpus import stopwords\n",
        "\n",
        "import kagglehub\n",
        "from kagglehub import KaggleDatasetAdapter\n",
        "\n",
        "from itertools import product\n",
        "\n",
        "nltk.download('punkt_tab')\n",
        "nltk.download('stopwords')"
      ]
    },
    {
      "cell_type": "code",
      "source": [
        "df = kagglehub.load_dataset(\n",
        "    KaggleDatasetAdapter.PANDAS,\n",
        "    \"bayes2003/emails-for-spam-or-ham-classification-enron-2006\",\n",
        "    \"email_origin.csv\",\n",
        ")\n",
        "\n",
        "text_column = \"origin\"\n",
        "label_column = \"label\""
      ],
      "metadata": {
        "colab": {
          "base_uri": "https://localhost:8080/"
        },
        "id": "OJOIZIefmC2K",
        "outputId": "8747dad8-5dbf-4126-8a7c-6fb263264f99"
      },
      "execution_count": 22,
      "outputs": [
        {
          "output_type": "stream",
          "name": "stdout",
          "text": [
            "Warning: Looks like you're using an outdated `kagglehub` version (installed: 0.3.6), please consider upgrading to the latest version (0.3.7).\n"
          ]
        }
      ]
    },
    {
      "cell_type": "code",
      "source": [
        "df.head(5)"
      ],
      "metadata": {
        "colab": {
          "base_uri": "https://localhost:8080/",
          "height": 206
        },
        "id": "B_Bg3C_XoDLV",
        "outputId": "049ceab5-eae3-4b9e-ae31-88ec33f045ec"
      },
      "execution_count": 23,
      "outputs": [
        {
          "output_type": "execute_result",
          "data": {
            "text/plain": [
              "   label                                             origin\n",
              "0      0  Subject: re : wolf - reply - reply - reply\\n\\n...\n",
              "1      0  Subject: hilcorp old ocean\\n\\ni have continued...\n",
              "2      0  Subject: merchanting metals update\\n\\nseveral ...\n",
              "3      0  Subject: meter 6461 , concorde churchill\\n\\non...\n",
              "4      0  Subject: weekly deal report\\n\\nattached is the..."
            ],
            "text/html": [
              "\n",
              "  <div id=\"df-a1e0f01a-25f4-412e-b4c6-91fc2019763e\" class=\"colab-df-container\">\n",
              "    <div>\n",
              "<style scoped>\n",
              "    .dataframe tbody tr th:only-of-type {\n",
              "        vertical-align: middle;\n",
              "    }\n",
              "\n",
              "    .dataframe tbody tr th {\n",
              "        vertical-align: top;\n",
              "    }\n",
              "\n",
              "    .dataframe thead th {\n",
              "        text-align: right;\n",
              "    }\n",
              "</style>\n",
              "<table border=\"1\" class=\"dataframe\">\n",
              "  <thead>\n",
              "    <tr style=\"text-align: right;\">\n",
              "      <th></th>\n",
              "      <th>label</th>\n",
              "      <th>origin</th>\n",
              "    </tr>\n",
              "  </thead>\n",
              "  <tbody>\n",
              "    <tr>\n",
              "      <th>0</th>\n",
              "      <td>0</td>\n",
              "      <td>Subject: re : wolf - reply - reply - reply\\n\\n...</td>\n",
              "    </tr>\n",
              "    <tr>\n",
              "      <th>1</th>\n",
              "      <td>0</td>\n",
              "      <td>Subject: hilcorp old ocean\\n\\ni have continued...</td>\n",
              "    </tr>\n",
              "    <tr>\n",
              "      <th>2</th>\n",
              "      <td>0</td>\n",
              "      <td>Subject: merchanting metals update\\n\\nseveral ...</td>\n",
              "    </tr>\n",
              "    <tr>\n",
              "      <th>3</th>\n",
              "      <td>0</td>\n",
              "      <td>Subject: meter 6461 , concorde churchill\\n\\non...</td>\n",
              "    </tr>\n",
              "    <tr>\n",
              "      <th>4</th>\n",
              "      <td>0</td>\n",
              "      <td>Subject: weekly deal report\\n\\nattached is the...</td>\n",
              "    </tr>\n",
              "  </tbody>\n",
              "</table>\n",
              "</div>\n",
              "    <div class=\"colab-df-buttons\">\n",
              "\n",
              "  <div class=\"colab-df-container\">\n",
              "    <button class=\"colab-df-convert\" onclick=\"convertToInteractive('df-a1e0f01a-25f4-412e-b4c6-91fc2019763e')\"\n",
              "            title=\"Convert this dataframe to an interactive table.\"\n",
              "            style=\"display:none;\">\n",
              "\n",
              "  <svg xmlns=\"http://www.w3.org/2000/svg\" height=\"24px\" viewBox=\"0 -960 960 960\">\n",
              "    <path d=\"M120-120v-720h720v720H120Zm60-500h600v-160H180v160Zm220 220h160v-160H400v160Zm0 220h160v-160H400v160ZM180-400h160v-160H180v160Zm440 0h160v-160H620v160ZM180-180h160v-160H180v160Zm440 0h160v-160H620v160Z\"/>\n",
              "  </svg>\n",
              "    </button>\n",
              "\n",
              "  <style>\n",
              "    .colab-df-container {\n",
              "      display:flex;\n",
              "      gap: 12px;\n",
              "    }\n",
              "\n",
              "    .colab-df-convert {\n",
              "      background-color: #E8F0FE;\n",
              "      border: none;\n",
              "      border-radius: 50%;\n",
              "      cursor: pointer;\n",
              "      display: none;\n",
              "      fill: #1967D2;\n",
              "      height: 32px;\n",
              "      padding: 0 0 0 0;\n",
              "      width: 32px;\n",
              "    }\n",
              "\n",
              "    .colab-df-convert:hover {\n",
              "      background-color: #E2EBFA;\n",
              "      box-shadow: 0px 1px 2px rgba(60, 64, 67, 0.3), 0px 1px 3px 1px rgba(60, 64, 67, 0.15);\n",
              "      fill: #174EA6;\n",
              "    }\n",
              "\n",
              "    .colab-df-buttons div {\n",
              "      margin-bottom: 4px;\n",
              "    }\n",
              "\n",
              "    [theme=dark] .colab-df-convert {\n",
              "      background-color: #3B4455;\n",
              "      fill: #D2E3FC;\n",
              "    }\n",
              "\n",
              "    [theme=dark] .colab-df-convert:hover {\n",
              "      background-color: #434B5C;\n",
              "      box-shadow: 0px 1px 3px 1px rgba(0, 0, 0, 0.15);\n",
              "      filter: drop-shadow(0px 1px 2px rgba(0, 0, 0, 0.3));\n",
              "      fill: #FFFFFF;\n",
              "    }\n",
              "  </style>\n",
              "\n",
              "    <script>\n",
              "      const buttonEl =\n",
              "        document.querySelector('#df-a1e0f01a-25f4-412e-b4c6-91fc2019763e button.colab-df-convert');\n",
              "      buttonEl.style.display =\n",
              "        google.colab.kernel.accessAllowed ? 'block' : 'none';\n",
              "\n",
              "      async function convertToInteractive(key) {\n",
              "        const element = document.querySelector('#df-a1e0f01a-25f4-412e-b4c6-91fc2019763e');\n",
              "        const dataTable =\n",
              "          await google.colab.kernel.invokeFunction('convertToInteractive',\n",
              "                                                    [key], {});\n",
              "        if (!dataTable) return;\n",
              "\n",
              "        const docLinkHtml = 'Like what you see? Visit the ' +\n",
              "          '<a target=\"_blank\" href=https://colab.research.google.com/notebooks/data_table.ipynb>data table notebook</a>'\n",
              "          + ' to learn more about interactive tables.';\n",
              "        element.innerHTML = '';\n",
              "        dataTable['output_type'] = 'display_data';\n",
              "        await google.colab.output.renderOutput(dataTable, element);\n",
              "        const docLink = document.createElement('div');\n",
              "        docLink.innerHTML = docLinkHtml;\n",
              "        element.appendChild(docLink);\n",
              "      }\n",
              "    </script>\n",
              "  </div>\n",
              "\n",
              "\n",
              "<div id=\"df-174570a2-91cc-466a-afa0-1c57dd7dfb4a\">\n",
              "  <button class=\"colab-df-quickchart\" onclick=\"quickchart('df-174570a2-91cc-466a-afa0-1c57dd7dfb4a')\"\n",
              "            title=\"Suggest charts\"\n",
              "            style=\"display:none;\">\n",
              "\n",
              "<svg xmlns=\"http://www.w3.org/2000/svg\" height=\"24px\"viewBox=\"0 0 24 24\"\n",
              "     width=\"24px\">\n",
              "    <g>\n",
              "        <path d=\"M19 3H5c-1.1 0-2 .9-2 2v14c0 1.1.9 2 2 2h14c1.1 0 2-.9 2-2V5c0-1.1-.9-2-2-2zM9 17H7v-7h2v7zm4 0h-2V7h2v10zm4 0h-2v-4h2v4z\"/>\n",
              "    </g>\n",
              "</svg>\n",
              "  </button>\n",
              "\n",
              "<style>\n",
              "  .colab-df-quickchart {\n",
              "      --bg-color: #E8F0FE;\n",
              "      --fill-color: #1967D2;\n",
              "      --hover-bg-color: #E2EBFA;\n",
              "      --hover-fill-color: #174EA6;\n",
              "      --disabled-fill-color: #AAA;\n",
              "      --disabled-bg-color: #DDD;\n",
              "  }\n",
              "\n",
              "  [theme=dark] .colab-df-quickchart {\n",
              "      --bg-color: #3B4455;\n",
              "      --fill-color: #D2E3FC;\n",
              "      --hover-bg-color: #434B5C;\n",
              "      --hover-fill-color: #FFFFFF;\n",
              "      --disabled-bg-color: #3B4455;\n",
              "      --disabled-fill-color: #666;\n",
              "  }\n",
              "\n",
              "  .colab-df-quickchart {\n",
              "    background-color: var(--bg-color);\n",
              "    border: none;\n",
              "    border-radius: 50%;\n",
              "    cursor: pointer;\n",
              "    display: none;\n",
              "    fill: var(--fill-color);\n",
              "    height: 32px;\n",
              "    padding: 0;\n",
              "    width: 32px;\n",
              "  }\n",
              "\n",
              "  .colab-df-quickchart:hover {\n",
              "    background-color: var(--hover-bg-color);\n",
              "    box-shadow: 0 1px 2px rgba(60, 64, 67, 0.3), 0 1px 3px 1px rgba(60, 64, 67, 0.15);\n",
              "    fill: var(--button-hover-fill-color);\n",
              "  }\n",
              "\n",
              "  .colab-df-quickchart-complete:disabled,\n",
              "  .colab-df-quickchart-complete:disabled:hover {\n",
              "    background-color: var(--disabled-bg-color);\n",
              "    fill: var(--disabled-fill-color);\n",
              "    box-shadow: none;\n",
              "  }\n",
              "\n",
              "  .colab-df-spinner {\n",
              "    border: 2px solid var(--fill-color);\n",
              "    border-color: transparent;\n",
              "    border-bottom-color: var(--fill-color);\n",
              "    animation:\n",
              "      spin 1s steps(1) infinite;\n",
              "  }\n",
              "\n",
              "  @keyframes spin {\n",
              "    0% {\n",
              "      border-color: transparent;\n",
              "      border-bottom-color: var(--fill-color);\n",
              "      border-left-color: var(--fill-color);\n",
              "    }\n",
              "    20% {\n",
              "      border-color: transparent;\n",
              "      border-left-color: var(--fill-color);\n",
              "      border-top-color: var(--fill-color);\n",
              "    }\n",
              "    30% {\n",
              "      border-color: transparent;\n",
              "      border-left-color: var(--fill-color);\n",
              "      border-top-color: var(--fill-color);\n",
              "      border-right-color: var(--fill-color);\n",
              "    }\n",
              "    40% {\n",
              "      border-color: transparent;\n",
              "      border-right-color: var(--fill-color);\n",
              "      border-top-color: var(--fill-color);\n",
              "    }\n",
              "    60% {\n",
              "      border-color: transparent;\n",
              "      border-right-color: var(--fill-color);\n",
              "    }\n",
              "    80% {\n",
              "      border-color: transparent;\n",
              "      border-right-color: var(--fill-color);\n",
              "      border-bottom-color: var(--fill-color);\n",
              "    }\n",
              "    90% {\n",
              "      border-color: transparent;\n",
              "      border-bottom-color: var(--fill-color);\n",
              "    }\n",
              "  }\n",
              "</style>\n",
              "\n",
              "  <script>\n",
              "    async function quickchart(key) {\n",
              "      const quickchartButtonEl =\n",
              "        document.querySelector('#' + key + ' button');\n",
              "      quickchartButtonEl.disabled = true;  // To prevent multiple clicks.\n",
              "      quickchartButtonEl.classList.add('colab-df-spinner');\n",
              "      try {\n",
              "        const charts = await google.colab.kernel.invokeFunction(\n",
              "            'suggestCharts', [key], {});\n",
              "      } catch (error) {\n",
              "        console.error('Error during call to suggestCharts:', error);\n",
              "      }\n",
              "      quickchartButtonEl.classList.remove('colab-df-spinner');\n",
              "      quickchartButtonEl.classList.add('colab-df-quickchart-complete');\n",
              "    }\n",
              "    (() => {\n",
              "      let quickchartButtonEl =\n",
              "        document.querySelector('#df-174570a2-91cc-466a-afa0-1c57dd7dfb4a button');\n",
              "      quickchartButtonEl.style.display =\n",
              "        google.colab.kernel.accessAllowed ? 'block' : 'none';\n",
              "    })();\n",
              "  </script>\n",
              "</div>\n",
              "    </div>\n",
              "  </div>\n"
            ],
            "application/vnd.google.colaboratory.intrinsic+json": {
              "type": "dataframe",
              "variable_name": "df",
              "summary": "{\n  \"name\": \"df\",\n  \"rows\": 33702,\n  \"fields\": [\n    {\n      \"column\": \"label\",\n      \"properties\": {\n        \"dtype\": \"number\",\n        \"std\": 0,\n        \"min\": 0,\n        \"max\": 1,\n        \"num_unique_values\": 2,\n        \"samples\": [\n          1,\n          0\n        ],\n        \"semantic_type\": \"\",\n        \"description\": \"\"\n      }\n    },\n    {\n      \"column\": \"origin\",\n      \"properties\": {\n        \"dtype\": \"string\",\n        \"num_unique_values\": 30485,\n        \"samples\": [\n          \"Subject: re : informs abstract ( fwd )\\n\\nshijie ,\\nadditional changes .\\nabstract :\\nthe power market developments in the us have created several unique\\nchallenges for energy industry economists . we discuss the major factors\\nunderlying\\nthe exceptionally high volatility of electricity prices . we feel that some of\\nthem may reflect the flaws in power pools design and incomplete transition to\\nfully deregulated markets in\\ngeneration and transmission .\\nthe title is fine .\\nvince\\nshijie deng on 10 / 01 / 2000 07 : 47 : 53 pm\\nto : vkamins @ enron . com\\ncc :\\nsubject : re : informs abstract ( fwd )\\n- - - - - - - - - - forwarded message - - - - - - - - - -\\ndate : sun , 1 oct 2000 14 : 29 : 20 - 0400 ( edt )\\nfrom : shijie deng\\nto : vkaminski @ aol . com\\ncc : shijie deng\\nsubject : re : informs abstract\\nvince ,\\nthanks for the abstract ! for the purpose of the conference program\\nlisting , the conference organizers need a title and an abstract which is\\nlonger than 50 words . based on the abstract that you sent me , i took the\\nliberty to make up a title and the 50 - word abstract ( attached below ) .\\nplease make changes as you feel necessary and send them back to me . i ' ll\\nsend them out to the organizers once i get your confirmation on this .\\nbest ,\\nshijie\\ntitle : current challenges in modeling power price volatility\\nauthor : dr . vince kaminski , head of quantitative research , enron capital &\\ntrade resources\\nabstract :\\nthe power market developments in the us have created several unique\\nchallenges for energy industry economists . we discuss the major factors\\nunderlying\\nthe exceptionally high volatility of electricity prices . we feel that some of\\nthem may be a necessary price to pay for increased market efficiency and\\nexpanded customer choice .\\nshi - jie deng\\nassistant professor\\nschool of isye\\ngeorgia institute of technology\\noffice phone : ( 404 ) 894 - 6519\\ne - mail : deng @ isye . gatech . edu\\nhome page : http : / / www . isye . gatech . edu / ~ deng\\non sun , 1 oct 2000 vkaminski @ aol . com wrote :\\n> shijie ,\\n>\\n> i am sending you the abstract for my informs presentation .\\n>\\n> vince\\n>\\n>\\n> * * * * *\\n>\\n>\\n> the last three years were characterized by exceptionally high volatility of\\n> the power prices in the us markets . the market developments have created a\\n> number of unique challenges for energy industry economists . one immediate\\n> question we have to answer is how to measure volatility of energy prices .\\n> although we can all agree that the prices in the power markets are\\n> characterized by high variability , the traditional measures used in\\nfinancial\\n> economics ( annualized standard deviation of log price returns ) may not fit\\n> well electricity prices . the second challenge is to explain the sources of\\n> high price volatility and to answer the question to what extent it can be\\n> attributed to problems that can be addressed in the long run . such problems\\n> include flaws in market design that allow some market participants to abuse\\n> market power , limited availability and / or unequal access to transmission ,\\n> temporary shortages of generation capacity . some factors underlying high\\n> volatility of electricity prices may be of permanent nature and may be a\\n> necessary price to pay for increased market efficiency and expanded customer\\n> choice .\\n>\",\n          \"Subject: culture committee meeting\\n\\njust a reminder of the culture committee meeting next week scheduled for wednesday , june 6 , 8 : 30 - 11 : 30 in ebl 6 cl . if you will not be able to attend please let us know .\\nthank you ,\\nbeth\"\n        ],\n        \"semantic_type\": \"\",\n        \"description\": \"\"\n      }\n    }\n  ]\n}"
            }
          },
          "metadata": {},
          "execution_count": 23
        }
      ]
    },
    {
      "cell_type": "code",
      "source": [
        "def preprocess_string(text, stop_set, stemmer):\n",
        "  text = word_tokenize(text)\n",
        "  filtered_text = [tok.lower() for tok in text if not tok.lower() in stop_set and not tok.isdigit()]\n",
        "  stemmed_text = [stemmer.stem(tok) for tok in filtered_text]\n",
        "\n",
        "  return stemmed_text"
      ],
      "metadata": {
        "id": "AAeMHn_cpv3I"
      },
      "execution_count": 24,
      "outputs": []
    },
    {
      "cell_type": "code",
      "source": [
        "stemmer = SnowballStemmer(\"english\")\n",
        "stop_words = set(stopwords.words(\"english\"))\n",
        "stop_plus = set([\":\", \",\", \"/\", \"{\", \"}\", \".\", \";\", \"#\", \"'\", \"(\", \")\", \"[\", \"]\", \"!\", \"?\", \"-\", \"%\", \"@\", \"subject\", \">\", \"=\", \"<\", \"+\", \"-\", \"|\", \"*\", \"_\"])\n",
        "result_set = stop_words.union(stop_plus)\n",
        "\n",
        "df[text_column] = df[text_column].map(lambda x: preprocess_string(x, result_set, stemmer))\n",
        "\n",
        "df.head(5)"
      ],
      "metadata": {
        "colab": {
          "base_uri": "https://localhost:8080/",
          "height": 206
        },
        "id": "CGVirqSwxRJb",
        "outputId": "61a04c84-eed3-4a75-da43-a077c5bfe52d"
      },
      "execution_count": 25,
      "outputs": [
        {
          "output_type": "execute_result",
          "data": {
            "text/plain": [
              "   label                                             origin\n",
              "0      0  [wolf, repli, repli, repli, wrong, bill, grace...\n",
              "1      0  [hilcorp, old, ocean, continu, hilcorp, old, o...\n",
              "2      0  [merchant, metal, updat, sever, relat, issu, r...\n",
              "3      0  [meter, concord, churchil, one, year, rate, on...\n",
              "4      0  [week, deal, report, attach, week, deal, repor..."
            ],
            "text/html": [
              "\n",
              "  <div id=\"df-14c55aa6-b702-44fc-bea4-7a0ef676e19b\" class=\"colab-df-container\">\n",
              "    <div>\n",
              "<style scoped>\n",
              "    .dataframe tbody tr th:only-of-type {\n",
              "        vertical-align: middle;\n",
              "    }\n",
              "\n",
              "    .dataframe tbody tr th {\n",
              "        vertical-align: top;\n",
              "    }\n",
              "\n",
              "    .dataframe thead th {\n",
              "        text-align: right;\n",
              "    }\n",
              "</style>\n",
              "<table border=\"1\" class=\"dataframe\">\n",
              "  <thead>\n",
              "    <tr style=\"text-align: right;\">\n",
              "      <th></th>\n",
              "      <th>label</th>\n",
              "      <th>origin</th>\n",
              "    </tr>\n",
              "  </thead>\n",
              "  <tbody>\n",
              "    <tr>\n",
              "      <th>0</th>\n",
              "      <td>0</td>\n",
              "      <td>[wolf, repli, repli, repli, wrong, bill, grace...</td>\n",
              "    </tr>\n",
              "    <tr>\n",
              "      <th>1</th>\n",
              "      <td>0</td>\n",
              "      <td>[hilcorp, old, ocean, continu, hilcorp, old, o...</td>\n",
              "    </tr>\n",
              "    <tr>\n",
              "      <th>2</th>\n",
              "      <td>0</td>\n",
              "      <td>[merchant, metal, updat, sever, relat, issu, r...</td>\n",
              "    </tr>\n",
              "    <tr>\n",
              "      <th>3</th>\n",
              "      <td>0</td>\n",
              "      <td>[meter, concord, churchil, one, year, rate, on...</td>\n",
              "    </tr>\n",
              "    <tr>\n",
              "      <th>4</th>\n",
              "      <td>0</td>\n",
              "      <td>[week, deal, report, attach, week, deal, repor...</td>\n",
              "    </tr>\n",
              "  </tbody>\n",
              "</table>\n",
              "</div>\n",
              "    <div class=\"colab-df-buttons\">\n",
              "\n",
              "  <div class=\"colab-df-container\">\n",
              "    <button class=\"colab-df-convert\" onclick=\"convertToInteractive('df-14c55aa6-b702-44fc-bea4-7a0ef676e19b')\"\n",
              "            title=\"Convert this dataframe to an interactive table.\"\n",
              "            style=\"display:none;\">\n",
              "\n",
              "  <svg xmlns=\"http://www.w3.org/2000/svg\" height=\"24px\" viewBox=\"0 -960 960 960\">\n",
              "    <path d=\"M120-120v-720h720v720H120Zm60-500h600v-160H180v160Zm220 220h160v-160H400v160Zm0 220h160v-160H400v160ZM180-400h160v-160H180v160Zm440 0h160v-160H620v160ZM180-180h160v-160H180v160Zm440 0h160v-160H620v160Z\"/>\n",
              "  </svg>\n",
              "    </button>\n",
              "\n",
              "  <style>\n",
              "    .colab-df-container {\n",
              "      display:flex;\n",
              "      gap: 12px;\n",
              "    }\n",
              "\n",
              "    .colab-df-convert {\n",
              "      background-color: #E8F0FE;\n",
              "      border: none;\n",
              "      border-radius: 50%;\n",
              "      cursor: pointer;\n",
              "      display: none;\n",
              "      fill: #1967D2;\n",
              "      height: 32px;\n",
              "      padding: 0 0 0 0;\n",
              "      width: 32px;\n",
              "    }\n",
              "\n",
              "    .colab-df-convert:hover {\n",
              "      background-color: #E2EBFA;\n",
              "      box-shadow: 0px 1px 2px rgba(60, 64, 67, 0.3), 0px 1px 3px 1px rgba(60, 64, 67, 0.15);\n",
              "      fill: #174EA6;\n",
              "    }\n",
              "\n",
              "    .colab-df-buttons div {\n",
              "      margin-bottom: 4px;\n",
              "    }\n",
              "\n",
              "    [theme=dark] .colab-df-convert {\n",
              "      background-color: #3B4455;\n",
              "      fill: #D2E3FC;\n",
              "    }\n",
              "\n",
              "    [theme=dark] .colab-df-convert:hover {\n",
              "      background-color: #434B5C;\n",
              "      box-shadow: 0px 1px 3px 1px rgba(0, 0, 0, 0.15);\n",
              "      filter: drop-shadow(0px 1px 2px rgba(0, 0, 0, 0.3));\n",
              "      fill: #FFFFFF;\n",
              "    }\n",
              "  </style>\n",
              "\n",
              "    <script>\n",
              "      const buttonEl =\n",
              "        document.querySelector('#df-14c55aa6-b702-44fc-bea4-7a0ef676e19b button.colab-df-convert');\n",
              "      buttonEl.style.display =\n",
              "        google.colab.kernel.accessAllowed ? 'block' : 'none';\n",
              "\n",
              "      async function convertToInteractive(key) {\n",
              "        const element = document.querySelector('#df-14c55aa6-b702-44fc-bea4-7a0ef676e19b');\n",
              "        const dataTable =\n",
              "          await google.colab.kernel.invokeFunction('convertToInteractive',\n",
              "                                                    [key], {});\n",
              "        if (!dataTable) return;\n",
              "\n",
              "        const docLinkHtml = 'Like what you see? Visit the ' +\n",
              "          '<a target=\"_blank\" href=https://colab.research.google.com/notebooks/data_table.ipynb>data table notebook</a>'\n",
              "          + ' to learn more about interactive tables.';\n",
              "        element.innerHTML = '';\n",
              "        dataTable['output_type'] = 'display_data';\n",
              "        await google.colab.output.renderOutput(dataTable, element);\n",
              "        const docLink = document.createElement('div');\n",
              "        docLink.innerHTML = docLinkHtml;\n",
              "        element.appendChild(docLink);\n",
              "      }\n",
              "    </script>\n",
              "  </div>\n",
              "\n",
              "\n",
              "<div id=\"df-953ac4c3-f6eb-4a42-ae00-ff2df4c8945e\">\n",
              "  <button class=\"colab-df-quickchart\" onclick=\"quickchart('df-953ac4c3-f6eb-4a42-ae00-ff2df4c8945e')\"\n",
              "            title=\"Suggest charts\"\n",
              "            style=\"display:none;\">\n",
              "\n",
              "<svg xmlns=\"http://www.w3.org/2000/svg\" height=\"24px\"viewBox=\"0 0 24 24\"\n",
              "     width=\"24px\">\n",
              "    <g>\n",
              "        <path d=\"M19 3H5c-1.1 0-2 .9-2 2v14c0 1.1.9 2 2 2h14c1.1 0 2-.9 2-2V5c0-1.1-.9-2-2-2zM9 17H7v-7h2v7zm4 0h-2V7h2v10zm4 0h-2v-4h2v4z\"/>\n",
              "    </g>\n",
              "</svg>\n",
              "  </button>\n",
              "\n",
              "<style>\n",
              "  .colab-df-quickchart {\n",
              "      --bg-color: #E8F0FE;\n",
              "      --fill-color: #1967D2;\n",
              "      --hover-bg-color: #E2EBFA;\n",
              "      --hover-fill-color: #174EA6;\n",
              "      --disabled-fill-color: #AAA;\n",
              "      --disabled-bg-color: #DDD;\n",
              "  }\n",
              "\n",
              "  [theme=dark] .colab-df-quickchart {\n",
              "      --bg-color: #3B4455;\n",
              "      --fill-color: #D2E3FC;\n",
              "      --hover-bg-color: #434B5C;\n",
              "      --hover-fill-color: #FFFFFF;\n",
              "      --disabled-bg-color: #3B4455;\n",
              "      --disabled-fill-color: #666;\n",
              "  }\n",
              "\n",
              "  .colab-df-quickchart {\n",
              "    background-color: var(--bg-color);\n",
              "    border: none;\n",
              "    border-radius: 50%;\n",
              "    cursor: pointer;\n",
              "    display: none;\n",
              "    fill: var(--fill-color);\n",
              "    height: 32px;\n",
              "    padding: 0;\n",
              "    width: 32px;\n",
              "  }\n",
              "\n",
              "  .colab-df-quickchart:hover {\n",
              "    background-color: var(--hover-bg-color);\n",
              "    box-shadow: 0 1px 2px rgba(60, 64, 67, 0.3), 0 1px 3px 1px rgba(60, 64, 67, 0.15);\n",
              "    fill: var(--button-hover-fill-color);\n",
              "  }\n",
              "\n",
              "  .colab-df-quickchart-complete:disabled,\n",
              "  .colab-df-quickchart-complete:disabled:hover {\n",
              "    background-color: var(--disabled-bg-color);\n",
              "    fill: var(--disabled-fill-color);\n",
              "    box-shadow: none;\n",
              "  }\n",
              "\n",
              "  .colab-df-spinner {\n",
              "    border: 2px solid var(--fill-color);\n",
              "    border-color: transparent;\n",
              "    border-bottom-color: var(--fill-color);\n",
              "    animation:\n",
              "      spin 1s steps(1) infinite;\n",
              "  }\n",
              "\n",
              "  @keyframes spin {\n",
              "    0% {\n",
              "      border-color: transparent;\n",
              "      border-bottom-color: var(--fill-color);\n",
              "      border-left-color: var(--fill-color);\n",
              "    }\n",
              "    20% {\n",
              "      border-color: transparent;\n",
              "      border-left-color: var(--fill-color);\n",
              "      border-top-color: var(--fill-color);\n",
              "    }\n",
              "    30% {\n",
              "      border-color: transparent;\n",
              "      border-left-color: var(--fill-color);\n",
              "      border-top-color: var(--fill-color);\n",
              "      border-right-color: var(--fill-color);\n",
              "    }\n",
              "    40% {\n",
              "      border-color: transparent;\n",
              "      border-right-color: var(--fill-color);\n",
              "      border-top-color: var(--fill-color);\n",
              "    }\n",
              "    60% {\n",
              "      border-color: transparent;\n",
              "      border-right-color: var(--fill-color);\n",
              "    }\n",
              "    80% {\n",
              "      border-color: transparent;\n",
              "      border-right-color: var(--fill-color);\n",
              "      border-bottom-color: var(--fill-color);\n",
              "    }\n",
              "    90% {\n",
              "      border-color: transparent;\n",
              "      border-bottom-color: var(--fill-color);\n",
              "    }\n",
              "  }\n",
              "</style>\n",
              "\n",
              "  <script>\n",
              "    async function quickchart(key) {\n",
              "      const quickchartButtonEl =\n",
              "        document.querySelector('#' + key + ' button');\n",
              "      quickchartButtonEl.disabled = true;  // To prevent multiple clicks.\n",
              "      quickchartButtonEl.classList.add('colab-df-spinner');\n",
              "      try {\n",
              "        const charts = await google.colab.kernel.invokeFunction(\n",
              "            'suggestCharts', [key], {});\n",
              "      } catch (error) {\n",
              "        console.error('Error during call to suggestCharts:', error);\n",
              "      }\n",
              "      quickchartButtonEl.classList.remove('colab-df-spinner');\n",
              "      quickchartButtonEl.classList.add('colab-df-quickchart-complete');\n",
              "    }\n",
              "    (() => {\n",
              "      let quickchartButtonEl =\n",
              "        document.querySelector('#df-953ac4c3-f6eb-4a42-ae00-ff2df4c8945e button');\n",
              "      quickchartButtonEl.style.display =\n",
              "        google.colab.kernel.accessAllowed ? 'block' : 'none';\n",
              "    })();\n",
              "  </script>\n",
              "</div>\n",
              "    </div>\n",
              "  </div>\n"
            ],
            "application/vnd.google.colaboratory.intrinsic+json": {
              "type": "dataframe",
              "variable_name": "df",
              "summary": "{\n  \"name\": \"df\",\n  \"rows\": 33702,\n  \"fields\": [\n    {\n      \"column\": \"label\",\n      \"properties\": {\n        \"dtype\": \"number\",\n        \"std\": 0,\n        \"min\": 0,\n        \"max\": 1,\n        \"num_unique_values\": 2,\n        \"samples\": [\n          1,\n          0\n        ],\n        \"semantic_type\": \"\",\n        \"description\": \"\"\n      }\n    },\n    {\n      \"column\": \"origin\",\n      \"properties\": {\n        \"dtype\": \"object\",\n        \"semantic_type\": \"\",\n        \"description\": \"\"\n      }\n    }\n  ]\n}"
            }
          },
          "metadata": {},
          "execution_count": 25
        }
      ]
    },
    {
      "cell_type": "markdown",
      "source": [
        "## Анализ датасета"
      ],
      "metadata": {
        "id": "lwKmbYlaoGee"
      }
    },
    {
      "cell_type": "code",
      "source": [
        "def generate_word_counts(sentences, labels):\n",
        "  word_dict = {}\n",
        "  for sent_i in range(len(sentences)):\n",
        "    for word in sentences[sent_i]:\n",
        "      key = (word, labels[sent_i])\n",
        "      if key in word_dict:\n",
        "        word_dict[key] += 1\n",
        "      else:\n",
        "        word_dict[key] = 1\n",
        "\n",
        "  return word_dict"
      ],
      "metadata": {
        "id": "JXGYnudwz5fS"
      },
      "execution_count": 26,
      "outputs": []
    },
    {
      "cell_type": "code",
      "source": [
        "def plot_spam_distribution():\n",
        "  labels = df[label_column].value_counts().index\n",
        "  sizes = df[label_column].value_counts().values\n",
        "  colors = [\"#79EF81\", \"#EC7171\"]\n",
        "\n",
        "  plt.pie(sizes, labels=labels, colors=colors, autopct=\"%1.1f%%\")\n",
        "  plt.axis(\"equal\")\n",
        "  plt.show()"
      ],
      "metadata": {
        "id": "gSm3taiNoL7o"
      },
      "execution_count": 27,
      "outputs": []
    },
    {
      "cell_type": "code",
      "source": [
        "def plot_common_words(wdict, top_n=8, chosen_label=-1):\n",
        "  sorted_words = sorted(wdict.items(), key=lambda x: x[1], reverse=True)\n",
        "  if chosen_label != -1:\n",
        "    sorted_words = [(key, count) for key, count in sorted_words if key[1] == chosen_label]\n",
        "\n",
        "  sorted_words = sorted_words[:top_n]\n",
        "\n",
        "  words_labels = [f\"{word} ({label})\" for (word, label), count in sorted_words]\n",
        "  counts = [count for (_, _), count in sorted_words]\n",
        "\n",
        "  plt.figure(figsize=(12, 6))\n",
        "  plt.barh(words_labels, counts, color='skyblue')\n",
        "  plt.xlabel(\"Frequency\")\n",
        "  plt.ylabel(\"Word (label)\")\n",
        "  plt.title(f\"Top {top_n} most common words\")\n",
        "  plt.gca().invert_yaxis()\n",
        "  plt.show()"
      ],
      "metadata": {
        "id": "YV-VEwH10_V7"
      },
      "execution_count": 28,
      "outputs": []
    },
    {
      "cell_type": "code",
      "source": [
        "plot_spam_distribution()"
      ],
      "metadata": {
        "colab": {
          "base_uri": "https://localhost:8080/",
          "height": 420
        },
        "id": "jORa9Qql3wDn",
        "outputId": "ed674d94-cdaa-4832-c17a-e9addcf3e9a9"
      },
      "execution_count": 29,
      "outputs": [
        {
          "output_type": "display_data",
          "data": {
            "text/plain": [
              "<Figure size 640x480 with 1 Axes>"
            ],
            "image/png": "[encoded data removed]"
          },
          "metadata": {}
        }
      ]
    },
    {
      "cell_type": "code",
      "source": [
        "d = generate_word_counts(df[text_column].tolist(), df[label_column].tolist())\n",
        "\n",
        "plot_common_words(d, 10, 0)\n",
        "plot_common_words(d, 10, 1)"
      ],
      "metadata": {
        "colab": {
          "base_uri": "https://localhost:8080/",
          "height": 1000
        },
        "id": "g-gj04yB4qCf",
        "outputId": "9cb66c98-d7f3-4ccc-e752-fc41fdab39a7"
      },
      "execution_count": 30,
      "outputs": [
        {
          "output_type": "display_data",
          "data": {
            "text/plain": [
              "<Figure size 1200x600 with 1 Axes>"
            ],
            "image/png": "[encoded data removed]"
          },
          "metadata": {}
        },
        {
          "output_type": "display_data",
          "data": {
            "text/plain": [
              "<Figure size 1200x600 with 1 Axes>"
            ],
            "image/png": "[encoded data removed]"
          },
          "metadata": {}
        }
      ]
    },
    {
      "cell_type": "markdown",
      "source": [
        "## Обучение модели"
      ],
      "metadata": {
        "id": "qLdPvCkI8fJK"
      }
    },
    {
      "cell_type": "code",
      "source": [
        "options = {\"ngram_range\" : [(1,1), (1,2), (1,3)],\n",
        "           \"train_size\" : [0.7, 0.8, 0.9],\n",
        "           \"model\" : [MultinomialNB(), GaussianNB(), LogisticRegression()]}"
      ],
      "metadata": {
        "id": "PLhtvUew9v2i"
      },
      "execution_count": 31,
      "outputs": []
    },
    {
      "cell_type": "code",
      "source": [
        "fixed_state = 2345\n",
        "models = []\n",
        "\n",
        "for ngram, size, model in product(options[\"ngram_range\"], options[\"train_size\"], options[\"model\"]):\n",
        "  X_tokens = df[text_column].tolist()\n",
        "  X_text = [' '.join(tokens) for tokens in X_tokens]\n",
        "  y = df[label_column].tolist()\n",
        "  X_train_text, X_test_text, y_train, y_test = train_test_split(X_text, y, train_size = size, random_state = fixed_state)\n",
        "\n",
        "  vectorizer = TfidfVectorizer(ngram_range = ngram, max_features=15000)\n",
        "  X_train_vec = vectorizer.fit_transform(X_train_text).toarray()\n",
        "  X_test_vec = vectorizer.transform(X_test_text).toarray()\n",
        "\n",
        "  mod = model\n",
        "\n",
        "  start_time = time.time()\n",
        "  mod.fit(X_train_vec, y_train)\n",
        "  end_time = time.time()\n",
        "  training_time = end_time - start_time\n",
        "  codename = f\"{ngram}-{size}-{mod.__class__.__name__}\"\n",
        "  models.append((codename, mod))\n",
        "\n",
        "  y_pred = mod.predict(X_test_vec)\n",
        "\n",
        "  accuracy = accuracy_score(y_test, y_pred)\n",
        "  if mod.__class__.__name__ == \"LogisticRegression\":\n",
        "    iters = mod.n_iter_\n",
        "  else:\n",
        "    iters = 0\n",
        "  print(f\"Configuration: Ngram range: {ngram} - Training dataset size: {size} - Model: {mod.__class__.__name__}, \\nAccuracy: {accuracy:.4f} - Training time: {training_time:.2f} - Iters: {iters}\")"
      ],
      "metadata": {
        "colab": {
          "base_uri": "https://localhost:8080/"
        },
        "id": "vLywVGbK8gqR",
        "outputId": "68adce31-f610-42a8-b73c-f0aae47fb037"
      },
      "execution_count": 36,
      "outputs": [
        {
          "output_type": "stream",
          "name": "stdout",
          "text": [
            "Configuration: Ngram range: (1, 1) - Training dataset size: 0.7 - Model: MultinomialNB, \n",
            "Accuracy: 0.9863 - Training time: 1.65 - Iters: 0\n",
            "Configuration: Ngram range: (1, 1) - Training dataset size: 0.7 - Model: GaussianNB, \n",
            "Accuracy: 0.9472 - Training time: 7.35 - Iters: 0\n",
            "Configuration: Ngram range: (1, 1) - Training dataset size: 0.7 - Model: LogisticRegression, \n",
            "Accuracy: 0.9854 - Training time: 9.35 - Iters: [17]\n",
            "Configuration: Ngram range: (1, 1) - Training dataset size: 0.8 - Model: MultinomialNB, \n",
            "Accuracy: 0.9868 - Training time: 1.54 - Iters: 0\n",
            "Configuration: Ngram range: (1, 1) - Training dataset size: 0.8 - Model: GaussianNB, \n",
            "Accuracy: 0.9444 - Training time: 8.94 - Iters: 0\n",
            "Configuration: Ngram range: (1, 1) - Training dataset size: 0.8 - Model: LogisticRegression, \n",
            "Accuracy: 0.9868 - Training time: 21.41 - Iters: [33]\n",
            "Configuration: Ngram range: (1, 1) - Training dataset size: 0.9 - Model: MultinomialNB, \n",
            "Accuracy: 0.9849 - Training time: 1.72 - Iters: 0\n",
            "Configuration: Ngram range: (1, 1) - Training dataset size: 0.9 - Model: GaussianNB, \n",
            "Accuracy: 0.9451 - Training time: 9.32 - Iters: 0\n",
            "Configuration: Ngram range: (1, 1) - Training dataset size: 0.9 - Model: LogisticRegression, \n",
            "Accuracy: 0.9872 - Training time: 15.28 - Iters: [23]\n",
            "Configuration: Ngram range: (1, 2) - Training dataset size: 0.7 - Model: MultinomialNB, \n",
            "Accuracy: 0.9854 - Training time: 1.35 - Iters: 0\n",
            "Configuration: Ngram range: (1, 2) - Training dataset size: 0.7 - Model: GaussianNB, \n",
            "Accuracy: 0.9754 - Training time: 5.79 - Iters: 0\n",
            "Configuration: Ngram range: (1, 2) - Training dataset size: 0.7 - Model: LogisticRegression, \n",
            "Accuracy: 0.9854 - Training time: 8.23 - Iters: [14]\n",
            "Configuration: Ngram range: (1, 2) - Training dataset size: 0.8 - Model: MultinomialNB, \n",
            "Accuracy: 0.9853 - Training time: 2.23 - Iters: 0\n",
            "Configuration: Ngram range: (1, 2) - Training dataset size: 0.8 - Model: GaussianNB, \n",
            "Accuracy: 0.9752 - Training time: 6.76 - Iters: 0\n",
            "Configuration: Ngram range: (1, 2) - Training dataset size: 0.8 - Model: LogisticRegression, \n",
            "Accuracy: 0.9865 - Training time: 14.95 - Iters: [27]\n",
            "Configuration: Ngram range: (1, 2) - Training dataset size: 0.9 - Model: MultinomialNB, \n",
            "Accuracy: 0.9834 - Training time: 1.72 - Iters: 0\n",
            "Configuration: Ngram range: (1, 2) - Training dataset size: 0.9 - Model: GaussianNB, \n",
            "Accuracy: 0.9772 - Training time: 7.43 - Iters: 0\n",
            "Configuration: Ngram range: (1, 2) - Training dataset size: 0.9 - Model: LogisticRegression, \n",
            "Accuracy: 0.9881 - Training time: 17.30 - Iters: [28]\n",
            "Configuration: Ngram range: (1, 3) - Training dataset size: 0.7 - Model: MultinomialNB, \n",
            "Accuracy: 0.9849 - Training time: 1.35 - Iters: 0\n",
            "Configuration: Ngram range: (1, 3) - Training dataset size: 0.7 - Model: GaussianNB, \n",
            "Accuracy: 0.9589 - Training time: 5.90 - Iters: 0\n",
            "Configuration: Ngram range: (1, 3) - Training dataset size: 0.7 - Model: LogisticRegression, \n",
            "Accuracy: 0.9859 - Training time: 8.31 - Iters: [17]\n",
            "Configuration: Ngram range: (1, 3) - Training dataset size: 0.8 - Model: MultinomialNB, \n",
            "Accuracy: 0.9849 - Training time: 1.54 - Iters: 0\n",
            "Configuration: Ngram range: (1, 3) - Training dataset size: 0.8 - Model: GaussianNB, \n",
            "Accuracy: 0.9567 - Training time: 6.92 - Iters: 0\n",
            "Configuration: Ngram range: (1, 3) - Training dataset size: 0.8 - Model: LogisticRegression, \n",
            "Accuracy: 0.9864 - Training time: 10.38 - Iters: [19]\n",
            "Configuration: Ngram range: (1, 3) - Training dataset size: 0.9 - Model: MultinomialNB, \n",
            "Accuracy: 0.9831 - Training time: 2.39 - Iters: 0\n",
            "Configuration: Ngram range: (1, 3) - Training dataset size: 0.9 - Model: GaussianNB, \n",
            "Accuracy: 0.9555 - Training time: 7.83 - Iters: 0\n",
            "Configuration: Ngram range: (1, 3) - Training dataset size: 0.9 - Model: LogisticRegression, \n",
            "Accuracy: 0.9872 - Training time: 16.19 - Iters: [27]\n"
          ]
        }
      ]
    },
    {
      "cell_type": "markdown",
      "source": [
        "Проверка модели:"
      ],
      "metadata": {
        "id": "K1rbDfkHBYtw"
      }
    },
    {
      "cell_type": "code",
      "source": [
        "user_text = str(input(\"\"))\n",
        "user_text_tok = preprocess_string(user_text, result_set, stemmer)\n",
        "print(user_text_tok)\n",
        "user_text = [' '.join(tokens) for tokens in user_text_tok]\n",
        "user_text_vec = vectorizer.transform(user_text).toarray()\n",
        "\n",
        "prediction = mod.predict(user_text_vec)\n",
        "\n",
        "print(f\"Predicted class: {prediction[0]}\")"
      ],
      "metadata": {
        "colab": {
          "base_uri": "https://localhost:8080/"
        },
        "id": "x4fBzPfKBgz9",
        "outputId": "9144a4c4-dd91-4c38-c936-490a4e9a32e1"
      },
      "execution_count": 39,
      "outputs": [
        {
          "output_type": "stream",
          "name": "stdout",
          "text": [
            "FREE MONEY GET YOUR GIFT RIGHT NOW JOIN JOIN JOIN TOTALLY LEGIT SUBSCRIBE HERE $$$ $\n",
            "['free', 'money', 'get', 'gift', 'right', 'join', 'join', 'join', 'total', 'legit', 'subscrib', '$', '$', '$', '$']\n",
            "Predicted class: 1\n"
          ]
        }
      ]
    }
  ]
}